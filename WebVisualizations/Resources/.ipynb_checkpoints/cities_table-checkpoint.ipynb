{
 "cells": [
  {
   "cell_type": "code",
   "execution_count": 1,
   "metadata": {},
   "outputs": [],
   "source": [
    "import pandas as pd"
   ]
  },
  {
   "cell_type": "code",
   "execution_count": 3,
   "metadata": {},
   "outputs": [],
   "source": [
    "cities_df = pd.read_csv('Cities.csv')"
   ]
  },
  {
   "cell_type": "code",
   "execution_count": 5,
   "metadata": {},
   "outputs": [
    {
     "data": {
      "text/html": [
       "<div>\n",
       "<style scoped>\n",
       "    .dataframe tbody tr th:only-of-type {\n",
       "        vertical-align: middle;\n",
       "    }\n",
       "\n",
       "    .dataframe tbody tr th {\n",
       "        vertical-align: top;\n",
       "    }\n",
       "\n",
       "    .dataframe thead th {\n",
       "        text-align: right;\n",
       "    }\n",
       "</style>\n",
       "<table border=\"1\" class=\"dataframe\">\n",
       "  <thead>\n",
       "    <tr style=\"text-align: right;\">\n",
       "      <th></th>\n",
       "      <th>Unnamed: 0</th>\n",
       "      <th>City</th>\n",
       "      <th>Cloudiness</th>\n",
       "      <th>Country</th>\n",
       "      <th>Date</th>\n",
       "      <th>Humidity</th>\n",
       "      <th>Lat</th>\n",
       "      <th>Lng</th>\n",
       "      <th>Max Temp</th>\n",
       "      <th>Wind Speed</th>\n",
       "    </tr>\n",
       "  </thead>\n",
       "  <tbody>\n",
       "    <tr>\n",
       "      <th>0</th>\n",
       "      <td>0</td>\n",
       "      <td>eatonton</td>\n",
       "      <td>1</td>\n",
       "      <td>US</td>\n",
       "      <td>1586908444</td>\n",
       "      <td>56</td>\n",
       "      <td>33.33</td>\n",
       "      <td>-83.39</td>\n",
       "      <td>73.99</td>\n",
       "      <td>4.70</td>\n",
       "    </tr>\n",
       "    <tr>\n",
       "      <th>1</th>\n",
       "      <td>1</td>\n",
       "      <td>lamu</td>\n",
       "      <td>90</td>\n",
       "      <td>KE</td>\n",
       "      <td>1586908444</td>\n",
       "      <td>85</td>\n",
       "      <td>-2.27</td>\n",
       "      <td>40.90</td>\n",
       "      <td>81.73</td>\n",
       "      <td>9.33</td>\n",
       "    </tr>\n",
       "    <tr>\n",
       "      <th>2</th>\n",
       "      <td>2</td>\n",
       "      <td>goderich</td>\n",
       "      <td>89</td>\n",
       "      <td>CA</td>\n",
       "      <td>1586908445</td>\n",
       "      <td>63</td>\n",
       "      <td>43.75</td>\n",
       "      <td>-81.72</td>\n",
       "      <td>37.99</td>\n",
       "      <td>15.61</td>\n",
       "    </tr>\n",
       "    <tr>\n",
       "      <th>3</th>\n",
       "      <td>3</td>\n",
       "      <td>menongue</td>\n",
       "      <td>6</td>\n",
       "      <td>AO</td>\n",
       "      <td>1586908446</td>\n",
       "      <td>56</td>\n",
       "      <td>-14.66</td>\n",
       "      <td>17.69</td>\n",
       "      <td>63.34</td>\n",
       "      <td>2.64</td>\n",
       "    </tr>\n",
       "    <tr>\n",
       "      <th>4</th>\n",
       "      <td>4</td>\n",
       "      <td>klaksvik</td>\n",
       "      <td>100</td>\n",
       "      <td>FO</td>\n",
       "      <td>1586908446</td>\n",
       "      <td>100</td>\n",
       "      <td>62.23</td>\n",
       "      <td>-6.59</td>\n",
       "      <td>44.60</td>\n",
       "      <td>20.80</td>\n",
       "    </tr>\n",
       "  </tbody>\n",
       "</table>\n",
       "</div>"
      ],
      "text/plain": [
       "   Unnamed: 0      City  Cloudiness Country        Date  Humidity    Lat  \\\n",
       "0           0  eatonton           1      US  1586908444        56  33.33   \n",
       "1           1      lamu          90      KE  1586908444        85  -2.27   \n",
       "2           2  goderich          89      CA  1586908445        63  43.75   \n",
       "3           3  menongue           6      AO  1586908446        56 -14.66   \n",
       "4           4  klaksvik         100      FO  1586908446       100  62.23   \n",
       "\n",
       "     Lng  Max Temp  Wind Speed  \n",
       "0 -83.39     73.99        4.70  \n",
       "1  40.90     81.73        9.33  \n",
       "2 -81.72     37.99       15.61  \n",
       "3  17.69     63.34        2.64  \n",
       "4  -6.59     44.60       20.80  "
      ]
     },
     "execution_count": 5,
     "metadata": {},
     "output_type": "execute_result"
    }
   ],
   "source": [
    "cities_df.head()"
   ]
  },
  {
   "cell_type": "code",
   "execution_count": 9,
   "metadata": {},
   "outputs": [
    {
     "data": {
      "text/plain": [
       "0      1586908444\n",
       "1      1586908444\n",
       "2      1586908445\n",
       "3      1586908446\n",
       "4      1586908446\n",
       "          ...    \n",
       "547    1586908727\n",
       "548    1586908727\n",
       "549    1586908728\n",
       "550    1586908728\n",
       "551    1586908729\n",
       "Name: Date, Length: 552, dtype: int64"
      ]
     },
     "execution_count": 9,
     "metadata": {},
     "output_type": "execute_result"
    }
   ],
   "source": [
    "datecorrect = cities_df[\"Date\"]\n",
    "datecorrect"
   ]
  },
  {
   "cell_type": "code",
   "execution_count": 10,
   "metadata": {},
   "outputs": [],
   "source": [
    "cities_df[\"Date\"] = pd.to_datetime(cities_df[\"Date\"], unit='s')"
   ]
  },
  {
   "cell_type": "code",
   "execution_count": 11,
   "metadata": {},
   "outputs": [
    {
     "data": {
      "text/html": [
       "<div>\n",
       "<style scoped>\n",
       "    .dataframe tbody tr th:only-of-type {\n",
       "        vertical-align: middle;\n",
       "    }\n",
       "\n",
       "    .dataframe tbody tr th {\n",
       "        vertical-align: top;\n",
       "    }\n",
       "\n",
       "    .dataframe thead th {\n",
       "        text-align: right;\n",
       "    }\n",
       "</style>\n",
       "<table border=\"1\" class=\"dataframe\">\n",
       "  <thead>\n",
       "    <tr style=\"text-align: right;\">\n",
       "      <th></th>\n",
       "      <th>Unnamed: 0</th>\n",
       "      <th>City</th>\n",
       "      <th>Cloudiness</th>\n",
       "      <th>Country</th>\n",
       "      <th>Date</th>\n",
       "      <th>Humidity</th>\n",
       "      <th>Lat</th>\n",
       "      <th>Lng</th>\n",
       "      <th>Max Temp</th>\n",
       "      <th>Wind Speed</th>\n",
       "    </tr>\n",
       "  </thead>\n",
       "  <tbody>\n",
       "    <tr>\n",
       "      <th>0</th>\n",
       "      <td>0</td>\n",
       "      <td>eatonton</td>\n",
       "      <td>1</td>\n",
       "      <td>US</td>\n",
       "      <td>2020-04-14 23:54:04</td>\n",
       "      <td>56</td>\n",
       "      <td>33.33</td>\n",
       "      <td>-83.39</td>\n",
       "      <td>73.99</td>\n",
       "      <td>4.70</td>\n",
       "    </tr>\n",
       "    <tr>\n",
       "      <th>1</th>\n",
       "      <td>1</td>\n",
       "      <td>lamu</td>\n",
       "      <td>90</td>\n",
       "      <td>KE</td>\n",
       "      <td>2020-04-14 23:54:04</td>\n",
       "      <td>85</td>\n",
       "      <td>-2.27</td>\n",
       "      <td>40.90</td>\n",
       "      <td>81.73</td>\n",
       "      <td>9.33</td>\n",
       "    </tr>\n",
       "    <tr>\n",
       "      <th>2</th>\n",
       "      <td>2</td>\n",
       "      <td>goderich</td>\n",
       "      <td>89</td>\n",
       "      <td>CA</td>\n",
       "      <td>2020-04-14 23:54:05</td>\n",
       "      <td>63</td>\n",
       "      <td>43.75</td>\n",
       "      <td>-81.72</td>\n",
       "      <td>37.99</td>\n",
       "      <td>15.61</td>\n",
       "    </tr>\n",
       "    <tr>\n",
       "      <th>3</th>\n",
       "      <td>3</td>\n",
       "      <td>menongue</td>\n",
       "      <td>6</td>\n",
       "      <td>AO</td>\n",
       "      <td>2020-04-14 23:54:06</td>\n",
       "      <td>56</td>\n",
       "      <td>-14.66</td>\n",
       "      <td>17.69</td>\n",
       "      <td>63.34</td>\n",
       "      <td>2.64</td>\n",
       "    </tr>\n",
       "    <tr>\n",
       "      <th>4</th>\n",
       "      <td>4</td>\n",
       "      <td>klaksvik</td>\n",
       "      <td>100</td>\n",
       "      <td>FO</td>\n",
       "      <td>2020-04-14 23:54:06</td>\n",
       "      <td>100</td>\n",
       "      <td>62.23</td>\n",
       "      <td>-6.59</td>\n",
       "      <td>44.60</td>\n",
       "      <td>20.80</td>\n",
       "    </tr>\n",
       "  </tbody>\n",
       "</table>\n",
       "</div>"
      ],
      "text/plain": [
       "   Unnamed: 0      City  Cloudiness Country                Date  Humidity  \\\n",
       "0           0  eatonton           1      US 2020-04-14 23:54:04        56   \n",
       "1           1      lamu          90      KE 2020-04-14 23:54:04        85   \n",
       "2           2  goderich          89      CA 2020-04-14 23:54:05        63   \n",
       "3           3  menongue           6      AO 2020-04-14 23:54:06        56   \n",
       "4           4  klaksvik         100      FO 2020-04-14 23:54:06       100   \n",
       "\n",
       "     Lat    Lng  Max Temp  Wind Speed  \n",
       "0  33.33 -83.39     73.99        4.70  \n",
       "1  -2.27  40.90     81.73        9.33  \n",
       "2  43.75 -81.72     37.99       15.61  \n",
       "3 -14.66  17.69     63.34        2.64  \n",
       "4  62.23  -6.59     44.60       20.80  "
      ]
     },
     "execution_count": 11,
     "metadata": {},
     "output_type": "execute_result"
    }
   ],
   "source": [
    "cities_df.head()"
   ]
  },
  {
   "cell_type": "code",
   "execution_count": 12,
   "metadata": {},
   "outputs": [],
   "source": [
    "cities_df.to_html(buf='cities.html', index=False)"
   ]
  },
  {
   "cell_type": "code",
   "execution_count": null,
   "metadata": {},
   "outputs": [],
   "source": [
    "# how to turn date into correct date time"
   ]
  }
 ],
 "metadata": {
  "kernelspec": {
   "display_name": "Python 3",
   "language": "python",
   "name": "python3"
  },
  "language_info": {
   "codemirror_mode": {
    "name": "ipython",
    "version": 3
   },
   "file_extension": ".py",
   "mimetype": "text/x-python",
   "name": "python",
   "nbconvert_exporter": "python",
   "pygments_lexer": "ipython3",
   "version": "3.6.10"
  }
 },
 "nbformat": 4,
 "nbformat_minor": 4
}
